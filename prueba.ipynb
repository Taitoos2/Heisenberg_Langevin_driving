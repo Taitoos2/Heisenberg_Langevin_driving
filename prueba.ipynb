{
 "cells": [
  {
   "cell_type": "code",
   "execution_count": 1,
   "metadata": {},
   "outputs": [],
   "source": [
    "import numpy as np\n",
    "import matplotlib.pyplot as plt"
   ]
  },
  {
   "cell_type": "markdown",
   "metadata": {},
   "source": [
    "# Ring waveguide Solver "
   ]
  },
  {
   "cell_type": "markdown",
   "metadata": {},
   "source": [
    "## 1. numerical integrator.\n",
    "For bosons I could do an analytical solver, but the truth is that in the markovian limit it is not \n",
    "very efficient. \n"
   ]
  },
  {
   "cell_type": "code",
   "execution_count": 3,
   "metadata": {},
   "outputs": [],
   "source": [
    "def numerical_solver(type, waveguide, initial, gamma, phi, tau, t_max, dt):\n",
    "    \"\"\"performs the numerical integration for a chain of emitters\n",
    "    INPUT:\n",
    "    type:       Either bosonic emitters or spin like emitters.\n",
    "    waveguide:  Either the ring, infinite or finite waveguide.\n",
    "    initial:    Initial state condidering the states 1,0,+,-\n",
    "    gamma:      Constant representing the coupling between the emitters and the em field\n",
    "    phi:        Phase the photons acquire travelling neighbor emitters (equal spacing is asumed)\n",
    "    tau:        Time the photons take to travel neighbor emitters\n",
    "    t_max:      Final time of integration\n",
    "    dt:         Max time step.\"\"\"\n",
    "\n",
    "    if tau == 0:\n",
    "        Delta = phi / tau\n",
    "    else:\n",
    "        print(\"$\\tau =0 $ is not valid \")\n",
    "        return 0\n",
    "    N = len(initial)  # number of emitters\n",
    "\n",
    "    def deriv_ring():\n",
    "        return 0\n",
    "\n",
    "    def deriv_finite():\n",
    "        return 0\n",
    "\n",
    "    def deriv_infinite():\n",
    "        return 0\n",
    "\n",
    "    return N"
   ]
  }
 ],
 "metadata": {
  "kernelspec": {
   "display_name": "Python 3",
   "language": "python",
   "name": "python3"
  },
  "language_info": {
   "codemirror_mode": {
    "name": "ipython",
    "version": 3
   },
   "file_extension": ".py",
   "mimetype": "text/x-python",
   "name": "python",
   "nbconvert_exporter": "python",
   "pygments_lexer": "ipython3",
   "version": "3.11.8"
  }
 },
 "nbformat": 4,
 "nbformat_minor": 2
}
